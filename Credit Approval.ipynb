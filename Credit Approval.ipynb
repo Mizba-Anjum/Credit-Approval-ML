{
 "cells": [
  {
   "cell_type": "markdown",
   "metadata": {
    "id": "D3cVZxFmYcok"
   },
   "source": [
    "https://colab.research.google.com/drive/1aoZYFabphLsPtpmiteSMevAOZ6nU1QEX?usp=sharing\n",
    "\n",
    "Using tensorflow with keras and some other libraries"
   ]
  },
  {
   "cell_type": "code",
   "execution_count": null,
   "metadata": {
    "id": "sxDfzDtnPV1A"
   },
   "outputs": [],
   "source": [
    "import tensorflow as tf\n",
    "from tensorflow import keras\n",
    "import pandas as pd\n",
    "import matplotlib.pyplot as plt\n",
    "import numpy as np\n",
    "from sklearn.preprocessing import StandardScaler\n",
    "from imblearn.over_sampling import RandomOverSampler\n",
    "from sklearn.metrics import classification_report"
   ]
  },
  {
   "cell_type": "markdown",
   "metadata": {
    "id": "yQaDaJSsGQ1S"
   },
   "source": [
    "Quinlan,Quinlan. Credit Approval. UCI Machine Learning Repository. https://doi.org/10.24432/C5FS30."
   ]
  },
  {
   "cell_type": "markdown",
   "metadata": {
    "id": "WgoTEsz6MiHT"
   },
   "source": [
    "## Data Preperation"
   ]
  },
  {
   "cell_type": "code",
   "execution_count": null,
   "metadata": {
    "colab": {
     "base_uri": "https://localhost:8080/",
     "height": 206
    },
    "id": "tbf64S3pPfit",
    "outputId": "6bb84de6-742d-40f5-88a8-05ff0925f23e"
   },
   "outputs": [
    {
     "data": {
      "text/html": [
       "\n",
       "  <div id=\"df-d69b17a9-9a43-4bef-9ad7-eaebdc4dc49d\" class=\"colab-df-container\">\n",
       "    <div>\n",
       "<style scoped>\n",
       "    .dataframe tbody tr th:only-of-type {\n",
       "        vertical-align: middle;\n",
       "    }\n",
       "\n",
       "    .dataframe tbody tr th {\n",
       "        vertical-align: top;\n",
       "    }\n",
       "\n",
       "    .dataframe thead th {\n",
       "        text-align: right;\n",
       "    }\n",
       "</style>\n",
       "<table border=\"1\" class=\"dataframe\">\n",
       "  <thead>\n",
       "    <tr style=\"text-align: right;\">\n",
       "      <th></th>\n",
       "      <th>A1</th>\n",
       "      <th>A2</th>\n",
       "      <th>A3</th>\n",
       "      <th>A4</th>\n",
       "      <th>A5</th>\n",
       "      <th>A6</th>\n",
       "      <th>A7</th>\n",
       "      <th>A8</th>\n",
       "      <th>A9</th>\n",
       "      <th>A10</th>\n",
       "      <th>A11</th>\n",
       "      <th>A12</th>\n",
       "      <th>A13</th>\n",
       "      <th>A14</th>\n",
       "      <th>A15</th>\n",
       "      <th>A16</th>\n",
       "    </tr>\n",
       "  </thead>\n",
       "  <tbody>\n",
       "    <tr>\n",
       "      <th>0</th>\n",
       "      <td>b</td>\n",
       "      <td>30.83</td>\n",
       "      <td>0.000</td>\n",
       "      <td>u</td>\n",
       "      <td>g</td>\n",
       "      <td>w</td>\n",
       "      <td>v</td>\n",
       "      <td>1.25</td>\n",
       "      <td>t</td>\n",
       "      <td>t</td>\n",
       "      <td>1</td>\n",
       "      <td>f</td>\n",
       "      <td>g</td>\n",
       "      <td>00202</td>\n",
       "      <td>0</td>\n",
       "      <td>1</td>\n",
       "    </tr>\n",
       "    <tr>\n",
       "      <th>1</th>\n",
       "      <td>a</td>\n",
       "      <td>58.67</td>\n",
       "      <td>4.460</td>\n",
       "      <td>u</td>\n",
       "      <td>g</td>\n",
       "      <td>q</td>\n",
       "      <td>h</td>\n",
       "      <td>3.04</td>\n",
       "      <td>t</td>\n",
       "      <td>t</td>\n",
       "      <td>6</td>\n",
       "      <td>f</td>\n",
       "      <td>g</td>\n",
       "      <td>00043</td>\n",
       "      <td>560</td>\n",
       "      <td>1</td>\n",
       "    </tr>\n",
       "    <tr>\n",
       "      <th>2</th>\n",
       "      <td>a</td>\n",
       "      <td>24.50</td>\n",
       "      <td>0.500</td>\n",
       "      <td>u</td>\n",
       "      <td>g</td>\n",
       "      <td>q</td>\n",
       "      <td>h</td>\n",
       "      <td>1.50</td>\n",
       "      <td>t</td>\n",
       "      <td>f</td>\n",
       "      <td>0</td>\n",
       "      <td>f</td>\n",
       "      <td>g</td>\n",
       "      <td>00280</td>\n",
       "      <td>824</td>\n",
       "      <td>1</td>\n",
       "    </tr>\n",
       "    <tr>\n",
       "      <th>3</th>\n",
       "      <td>b</td>\n",
       "      <td>27.83</td>\n",
       "      <td>1.540</td>\n",
       "      <td>u</td>\n",
       "      <td>g</td>\n",
       "      <td>w</td>\n",
       "      <td>v</td>\n",
       "      <td>3.75</td>\n",
       "      <td>t</td>\n",
       "      <td>t</td>\n",
       "      <td>5</td>\n",
       "      <td>t</td>\n",
       "      <td>g</td>\n",
       "      <td>00100</td>\n",
       "      <td>3</td>\n",
       "      <td>1</td>\n",
       "    </tr>\n",
       "    <tr>\n",
       "      <th>4</th>\n",
       "      <td>b</td>\n",
       "      <td>20.17</td>\n",
       "      <td>5.625</td>\n",
       "      <td>u</td>\n",
       "      <td>g</td>\n",
       "      <td>w</td>\n",
       "      <td>v</td>\n",
       "      <td>1.71</td>\n",
       "      <td>t</td>\n",
       "      <td>f</td>\n",
       "      <td>0</td>\n",
       "      <td>f</td>\n",
       "      <td>s</td>\n",
       "      <td>00120</td>\n",
       "      <td>0</td>\n",
       "      <td>1</td>\n",
       "    </tr>\n",
       "  </tbody>\n",
       "</table>\n",
       "</div>\n",
       "    <div class=\"colab-df-buttons\">\n",
       "\n",
       "  <div class=\"colab-df-container\">\n",
       "    <button class=\"colab-df-convert\" onclick=\"convertToInteractive('df-d69b17a9-9a43-4bef-9ad7-eaebdc4dc49d')\"\n",
       "            title=\"Convert this dataframe to an interactive table.\"\n",
       "            style=\"display:none;\">\n",
       "\n",
       "  <svg xmlns=\"http://www.w3.org/2000/svg\" height=\"24px\" viewBox=\"0 -960 960 960\">\n",
       "    <path d=\"M120-120v-720h720v720H120Zm60-500h600v-160H180v160Zm220 220h160v-160H400v160Zm0 220h160v-160H400v160ZM180-400h160v-160H180v160Zm440 0h160v-160H620v160ZM180-180h160v-160H180v160Zm440 0h160v-160H620v160Z\"/>\n",
       "  </svg>\n",
       "    </button>\n",
       "\n",
       "  <style>\n",
       "    .colab-df-container {\n",
       "      display:flex;\n",
       "      gap: 12px;\n",
       "    }\n",
       "\n",
       "    .colab-df-convert {\n",
       "      background-color: #E8F0FE;\n",
       "      border: none;\n",
       "      border-radius: 50%;\n",
       "      cursor: pointer;\n",
       "      display: none;\n",
       "      fill: #1967D2;\n",
       "      height: 32px;\n",
       "      padding: 0 0 0 0;\n",
       "      width: 32px;\n",
       "    }\n",
       "\n",
       "    .colab-df-convert:hover {\n",
       "      background-color: #E2EBFA;\n",
       "      box-shadow: 0px 1px 2px rgba(60, 64, 67, 0.3), 0px 1px 3px 1px rgba(60, 64, 67, 0.15);\n",
       "      fill: #174EA6;\n",
       "    }\n",
       "\n",
       "    .colab-df-buttons div {\n",
       "      margin-bottom: 4px;\n",
       "    }\n",
       "\n",
       "    [theme=dark] .colab-df-convert {\n",
       "      background-color: #3B4455;\n",
       "      fill: #D2E3FC;\n",
       "    }\n",
       "\n",
       "    [theme=dark] .colab-df-convert:hover {\n",
       "      background-color: #434B5C;\n",
       "      box-shadow: 0px 1px 3px 1px rgba(0, 0, 0, 0.15);\n",
       "      filter: drop-shadow(0px 1px 2px rgba(0, 0, 0, 0.3));\n",
       "      fill: #FFFFFF;\n",
       "    }\n",
       "  </style>\n",
       "\n",
       "    <script>\n",
       "      const buttonEl =\n",
       "        document.querySelector('#df-d69b17a9-9a43-4bef-9ad7-eaebdc4dc49d button.colab-df-convert');\n",
       "      buttonEl.style.display =\n",
       "        google.colab.kernel.accessAllowed ? 'block' : 'none';\n",
       "\n",
       "      async function convertToInteractive(key) {\n",
       "        const element = document.querySelector('#df-d69b17a9-9a43-4bef-9ad7-eaebdc4dc49d');\n",
       "        const dataTable =\n",
       "          await google.colab.kernel.invokeFunction('convertToInteractive',\n",
       "                                                    [key], {});\n",
       "        if (!dataTable) return;\n",
       "\n",
       "        const docLinkHtml = 'Like what you see? Visit the ' +\n",
       "          '<a target=\"_blank\" href=https://colab.research.google.com/notebooks/data_table.ipynb>data table notebook</a>'\n",
       "          + ' to learn more about interactive tables.';\n",
       "        element.innerHTML = '';\n",
       "        dataTable['output_type'] = 'display_data';\n",
       "        await google.colab.output.renderOutput(dataTable, element);\n",
       "        const docLink = document.createElement('div');\n",
       "        docLink.innerHTML = docLinkHtml;\n",
       "        element.appendChild(docLink);\n",
       "      }\n",
       "    </script>\n",
       "  </div>\n",
       "\n",
       "\n",
       "<div id=\"df-39ef0d09-08b6-4a3c-b77c-2e65c721211c\">\n",
       "  <button class=\"colab-df-quickchart\" onclick=\"quickchart('df-39ef0d09-08b6-4a3c-b77c-2e65c721211c')\"\n",
       "            title=\"Suggest charts.\"\n",
       "            style=\"display:none;\">\n",
       "\n",
       "<svg xmlns=\"http://www.w3.org/2000/svg\" height=\"24px\"viewBox=\"0 0 24 24\"\n",
       "     width=\"24px\">\n",
       "    <g>\n",
       "        <path d=\"M19 3H5c-1.1 0-2 .9-2 2v14c0 1.1.9 2 2 2h14c1.1 0 2-.9 2-2V5c0-1.1-.9-2-2-2zM9 17H7v-7h2v7zm4 0h-2V7h2v10zm4 0h-2v-4h2v4z\"/>\n",
       "    </g>\n",
       "</svg>\n",
       "  </button>\n",
       "\n",
       "<style>\n",
       "  .colab-df-quickchart {\n",
       "      --bg-color: #E8F0FE;\n",
       "      --fill-color: #1967D2;\n",
       "      --hover-bg-color: #E2EBFA;\n",
       "      --hover-fill-color: #174EA6;\n",
       "      --disabled-fill-color: #AAA;\n",
       "      --disabled-bg-color: #DDD;\n",
       "  }\n",
       "\n",
       "  [theme=dark] .colab-df-quickchart {\n",
       "      --bg-color: #3B4455;\n",
       "      --fill-color: #D2E3FC;\n",
       "      --hover-bg-color: #434B5C;\n",
       "      --hover-fill-color: #FFFFFF;\n",
       "      --disabled-bg-color: #3B4455;\n",
       "      --disabled-fill-color: #666;\n",
       "  }\n",
       "\n",
       "  .colab-df-quickchart {\n",
       "    background-color: var(--bg-color);\n",
       "    border: none;\n",
       "    border-radius: 50%;\n",
       "    cursor: pointer;\n",
       "    display: none;\n",
       "    fill: var(--fill-color);\n",
       "    height: 32px;\n",
       "    padding: 0;\n",
       "    width: 32px;\n",
       "  }\n",
       "\n",
       "  .colab-df-quickchart:hover {\n",
       "    background-color: var(--hover-bg-color);\n",
       "    box-shadow: 0 1px 2px rgba(60, 64, 67, 0.3), 0 1px 3px 1px rgba(60, 64, 67, 0.15);\n",
       "    fill: var(--button-hover-fill-color);\n",
       "  }\n",
       "\n",
       "  .colab-df-quickchart-complete:disabled,\n",
       "  .colab-df-quickchart-complete:disabled:hover {\n",
       "    background-color: var(--disabled-bg-color);\n",
       "    fill: var(--disabled-fill-color);\n",
       "    box-shadow: none;\n",
       "  }\n",
       "\n",
       "  .colab-df-spinner {\n",
       "    border: 2px solid var(--fill-color);\n",
       "    border-color: transparent;\n",
       "    border-bottom-color: var(--fill-color);\n",
       "    animation:\n",
       "      spin 1s steps(1) infinite;\n",
       "  }\n",
       "\n",
       "  @keyframes spin {\n",
       "    0% {\n",
       "      border-color: transparent;\n",
       "      border-bottom-color: var(--fill-color);\n",
       "      border-left-color: var(--fill-color);\n",
       "    }\n",
       "    20% {\n",
       "      border-color: transparent;\n",
       "      border-left-color: var(--fill-color);\n",
       "      border-top-color: var(--fill-color);\n",
       "    }\n",
       "    30% {\n",
       "      border-color: transparent;\n",
       "      border-left-color: var(--fill-color);\n",
       "      border-top-color: var(--fill-color);\n",
       "      border-right-color: var(--fill-color);\n",
       "    }\n",
       "    40% {\n",
       "      border-color: transparent;\n",
       "      border-right-color: var(--fill-color);\n",
       "      border-top-color: var(--fill-color);\n",
       "    }\n",
       "    60% {\n",
       "      border-color: transparent;\n",
       "      border-right-color: var(--fill-color);\n",
       "    }\n",
       "    80% {\n",
       "      border-color: transparent;\n",
       "      border-right-color: var(--fill-color);\n",
       "      border-bottom-color: var(--fill-color);\n",
       "    }\n",
       "    90% {\n",
       "      border-color: transparent;\n",
       "      border-bottom-color: var(--fill-color);\n",
       "    }\n",
       "  }\n",
       "</style>\n",
       "\n",
       "  <script>\n",
       "    async function quickchart(key) {\n",
       "      const quickchartButtonEl =\n",
       "        document.querySelector('#' + key + ' button');\n",
       "      quickchartButtonEl.disabled = true;  // To prevent multiple clicks.\n",
       "      quickchartButtonEl.classList.add('colab-df-spinner');\n",
       "      try {\n",
       "        const charts = await google.colab.kernel.invokeFunction(\n",
       "            'suggestCharts', [key], {});\n",
       "      } catch (error) {\n",
       "        console.error('Error during call to suggestCharts:', error);\n",
       "      }\n",
       "      quickchartButtonEl.classList.remove('colab-df-spinner');\n",
       "      quickchartButtonEl.classList.add('colab-df-quickchart-complete');\n",
       "    }\n",
       "    (() => {\n",
       "      let quickchartButtonEl =\n",
       "        document.querySelector('#df-39ef0d09-08b6-4a3c-b77c-2e65c721211c button');\n",
       "      quickchartButtonEl.style.display =\n",
       "        google.colab.kernel.accessAllowed ? 'block' : 'none';\n",
       "    })();\n",
       "  </script>\n",
       "</div>\n",
       "    </div>\n",
       "  </div>\n"
      ],
      "text/plain": [
       "  A1     A2     A3 A4 A5 A6 A7    A8 A9 A10  A11 A12 A13    A14  A15  A16\n",
       "0  b  30.83  0.000  u  g  w  v  1.25  t   t    1   f   g  00202    0    1\n",
       "1  a  58.67  4.460  u  g  q  h  3.04  t   t    6   f   g  00043  560    1\n",
       "2  a  24.50  0.500  u  g  q  h  1.50  t   f    0   f   g  00280  824    1\n",
       "3  b  27.83  1.540  u  g  w  v  3.75  t   t    5   t   g  00100    3    1\n",
       "4  b  20.17  5.625  u  g  w  v  1.71  t   f    0   f   s  00120    0    1"
      ]
     },
     "execution_count": 4,
     "metadata": {},
     "output_type": "execute_result"
    }
   ],
   "source": [
    "# Read cols A1 - A16\n",
    "cols = ['A' + str(i) for i in range(1,17)]\n",
    "df = pd.read_csv(\"crx.data\", names=cols)\n",
    "# Convert target to 1 or 0\n",
    "df[\"A16\"] = (df[\"A16\"] == '+').astype(int)\n",
    "df.head()"
   ]
  },
  {
   "cell_type": "markdown",
   "metadata": {
    "id": "9CZ0FKD1X39J"
   },
   "source": [
    "**Data Cleaning**\n",
    "*   Missing Values - Filter out samples with missing values\n",
    "  * I chose not to try to fill in missing values because this dataset is very unclear about the meanings of these values and some values are not numerical. I decided to simply filter them out so that they would not interfere with the process.\n",
    "\n",
    "\n",
    "*   Data Correction\n",
    "  *   After analyzing the data types in preparation to work with them, I noticed that two of the column's types are 'o' or object (column A2 and A14) when, according to the source of the data listed above, they should be numerical. I will convert these columns to a float and an int to match the intended data values.\n",
    "\n",
    "  *   Some of the columns are intentionally of type 'o' or object. They use strings to represent states or values, however they are not meant to be interpreted as words. I will convert them to numbers so that they will  work with the model.\n",
    "\n",
    "\n",
    "*   Outliers\n",
    "  *   I will filter out the outliers for each numerical column to improve accuracy.\n",
    "\n",
    "\n",
    "\n"
   ]
  },
  {
   "cell_type": "code",
   "execution_count": null,
   "metadata": {
    "id": "WXs4FE34QUUR"
   },
   "outputs": [],
   "source": [
    "# Filter out all rows with missing values (where value is '?' in this dataset)\n",
    "df = df[(df['A1'] != '?') & (df['A2'] != '?') & (df['A4'] != '?') & (df['A5'] != '?') & (df['A6'] != '?') & (df['A7'] != '?') & (df['A14' ]!= '?')]"
   ]
  },
  {
   "cell_type": "code",
   "execution_count": null,
   "metadata": {
    "id": "vgYs_l_cz-Sq"
   },
   "outputs": [],
   "source": [
    "# A2 and A14 columns are meant to be continous but are read as object types\n",
    "# Convert them to float and int\n",
    "df['A2'] = df['A2'].astype(float)\n",
    "df['A14'] = df['A14'].astype(int)"
   ]
  },
  {
   "cell_type": "code",
   "execution_count": null,
   "metadata": {
    "id": "tiYHWuiTbadM"
   },
   "outputs": [],
   "source": [
    "# Convert 'object' type columns to 'int' type columns\n",
    "# Replace string values with numbers\n",
    "for col in df.columns[:-1]:\n",
    "  if df[col].dtypes == 'object':\n",
    "    uniques = df[col].unique()\n",
    "    for row in df.index:\n",
    "      df.loc[row, col] = np.where(uniques == df.loc[row,col])[0][0]\n",
    "    df[col] = df[col].astype(int)"
   ]
  },
  {
   "cell_type": "code",
   "execution_count": null,
   "metadata": {
    "id": "9f8-S-Ri1EkA"
   },
   "outputs": [],
   "source": [
    "# Find outliers with z-score and drop\n",
    "for col in df.columns[:-1]:\n",
    "  if df[col].dtypes == 'int64' or df[col].dtypes == 'float64':\n",
    "    mean = df[col].mean()\n",
    "    std = df[col].std()\n",
    "    for row in df.index:\n",
    "      value = df.loc[row,col]\n",
    "      zscore = (value - mean) / std\n",
    "      if abs(zscore) > 3:\n",
    "        df.drop(row, inplace=True)"
   ]
  },
  {
   "cell_type": "markdown",
   "metadata": {
    "id": "zPlYEB4DX6k3"
   },
   "source": [
    "**Training, Validation, and Testing Data** - Divide into 60% for training, 20% for validation, and 20% for testing"
   ]
  },
  {
   "cell_type": "code",
   "execution_count": null,
   "metadata": {
    "id": "eyg6ny8ihnpf"
   },
   "outputs": [],
   "source": [
    "# Train, Validation, and Test Data\n",
    "train, valid, test = np.split(df.sample(frac=1), [int(.6*len(df)), int(.8*len(df))])"
   ]
  },
  {
   "cell_type": "markdown",
   "metadata": {
    "id": "SN88JsfsY5zY"
   },
   "source": [
    "**Preparing the data for use**\n",
    "\n",
    "*   Scale numerical values to improve accuracy. Only use the columns specified by the data source as continuous and leave out the categorical columns even though they have been converted to number format.\n",
    "*   Oversample to reduce class imbalance.\n",
    "\n"
   ]
  },
  {
   "cell_type": "code",
   "execution_count": null,
   "metadata": {
    "id": "Ki8sRocPjLd1"
   },
   "outputs": [],
   "source": [
    "# Data Preparation\n",
    "def prepare_dataset(dataframe, oversample=False):\n",
    "  # Divide into x and y\n",
    "  x = dataframe[dataframe.columns[:-1]].values\n",
    "  y = dataframe[dataframe.columns[-1]].values\n",
    "\n",
    "  # Scale numerical data only\n",
    "  scaler = StandardScaler()\n",
    "  num_data = x[:, [1,2,7,10,13,14]]\n",
    "  num_data = scaler.fit_transform(num_data)\n",
    "  for i in range(len(num_data)):\n",
    "    x[i, 1] = num_data[i, 0]\n",
    "    x[i, 2] = num_data[i, 1]\n",
    "    x[i, 7] = num_data[i, 2]\n",
    "    x[i, 10] = num_data[i, 3]\n",
    "    x[i, 13] = num_data[i, 4]\n",
    "    x[i, 14] = num_data[i, 5]\n",
    "\n",
    "  # Oversample\n",
    "  if oversample:\n",
    "    ros = RandomOverSampler()\n",
    "    x, y = ros.fit_resample(x,y)\n",
    "\n",
    "  # Stack x and y for data\n",
    "  data = np.hstack((x, np.reshape(y, (-1,1))))\n",
    "\n",
    "  return data, x, y"
   ]
  },
  {
   "cell_type": "code",
   "execution_count": null,
   "metadata": {
    "id": "ws08-vW2lmZq"
   },
   "outputs": [],
   "source": [
    "# Train, Valid, Test: full, x, and y\n",
    "train, x_train, y_train = prepare_dataset(train, oversample=True)\n",
    "valid, x_valid, y_valid = prepare_dataset(valid, oversample=False)\n",
    "test, x_test, y_test = prepare_dataset(test, oversample=False)"
   ]
  },
  {
   "cell_type": "markdown",
   "metadata": {
    "id": "oMqjqAm55wS1"
   },
   "source": [
    "# Data Training\n",
    "I decided to use Neural Networks for this project. Alternatively I would consider trying KNN because of the small dataset and Naive Bayes because of the feature independence and comparing each model."
   ]
  },
  {
   "cell_type": "markdown",
   "metadata": {
    "id": "QM3f8MbUAyvM"
   },
   "source": [
    "Activation: First layers: relu, Output: sigmoid (I think relu is suitable for the first layers because it is less restricted than tanh or sigmoid and more understandable and general than its counterparts such as gelu or elu, which is good for working with a dataset that I am not familiar with. I chose sigmoid for the output layer because it is highly suited for binary classification.)\n",
    "\n",
    "Dropout layers after the 1st and 2nd layers to prevent overfitting.\n",
    "\n",
    "Optimizer: Adam (Adam uses gradient descent which is more suitable for smaller datasets than its counterparts such as stochastic gradient descent. I believe Adam is suitable for most general datasets including this one.)\n",
    "\n",
    "Loss: Binary Crossentropy (Binary Crossentropy is very suitable for binary classification.)\n",
    "\n",
    "Metrics: BinaryAccuracy (I used binary accuracy over accuracy because binary accuracy is more suited and usually higher performing in binary classification.)"
   ]
  },
  {
   "cell_type": "code",
   "execution_count": null,
   "metadata": {
    "id": "bm9zmN1Z6Wv_"
   },
   "outputs": [],
   "source": [
    "# Train model with testing parameters: neurons, dropout rate, learning rate, batch size, epochs\n",
    "def train_model(x_train, y_train, unit1, unit2, dropout, lr, batch_size, epochs):\n",
    "  nn_model = tf.keras.Sequential([\n",
    "      tf.keras.layers.Dense(unit1, activation='relu', input_shape=(15,)),\n",
    "      tf.keras.layers.Dropout(dropout),\n",
    "      tf.keras.layers.Dense(unit2, activation='relu'),\n",
    "      tf.keras.layers.Dropout(dropout),\n",
    "      tf.keras.layers.Dense(1, activation='sigmoid')\n",
    "  ])\n",
    "\n",
    "  nn_model.compile(optimizer=tf.keras.optimizers.Adam(lr),\n",
    "                   loss='binary_crossentropy', metrics=['binary_accuracy'])\n",
    "\n",
    "  history = nn_model.fit(x_train, y_train, epochs=epochs, batch_size=batch_size, validation_data=(x_valid, y_valid), verbose=0  )\n",
    "\n",
    "  return nn_model, history"
   ]
  },
  {
   "cell_type": "markdown",
   "metadata": {
    "id": "vdZ9_mClVjFH"
   },
   "source": [
    "**Hyperprameter Tuning**\n",
    "\n",
    "I will use manual grid search to test a set of possible values for some paramters. Since the dataset is small, I believe grid search will be sufficient. I chose to do it manually because this manual method yields better results than GridSearchCV. I also chose to measure by least loss rather than highest accuracy because it yielded better overall results in the classification report."
   ]
  },
  {
   "cell_type": "code",
   "execution_count": null,
   "metadata": {
    "id": "77UmGPkbOKE4"
   },
   "outputs": [],
   "source": [
    "# Find least loss and most accuracy models\n",
    "least_val_loss = float('inf')\n",
    "least_loss_model = None\n",
    "\n",
    "# Loop through chosen parameter values and try each combination\n",
    "for unit1 in [64, 32]:\n",
    "  for unit2 in [32, 16]:\n",
    "    for dropout in [0, .2]:\n",
    "      for lr in [.001, .01, .1]:\n",
    "        for batch_size in [20, 50, 100]:\n",
    "          for epochs in [5, 10, 20]:\n",
    "            model, history = train_model(x_train, y_train, unit1, unit2, dropout, lr, batch_size, epochs)\n",
    "            # Keep highest loss model\n",
    "            val_loss = model.evaluate(x_valid, y_valid)[0]\n",
    "            if val_loss < least_val_loss:\n",
    "              least_val_loss = val_loss\n",
    "              least_loss_model = model"
   ]
  },
  {
   "cell_type": "markdown",
   "metadata": {
    "id": "eQ58QH0e2NQW"
   },
   "source": [
    "Classification Report"
   ]
  },
  {
   "cell_type": "code",
   "execution_count": null,
   "metadata": {
    "colab": {
     "base_uri": "https://localhost:8080/"
    },
    "id": "UcYyNRE-hTeg",
    "outputId": "b83bf061-714d-4faa-9ac3-71e2bbb3b4df"
   },
   "outputs": [
    {
     "name": "stdout",
     "output_type": "stream",
     "text": [
      "4/4 [==============================] - 0s 3ms/step\n",
      "              precision    recall  f1-score   support\n",
      "\n",
      "           0       0.88      0.89      0.88        64\n",
      "           1       0.84      0.82      0.83        44\n",
      "\n",
      "    accuracy                           0.86       108\n",
      "   macro avg       0.86      0.85      0.86       108\n",
      "weighted avg       0.86      0.86      0.86       108\n",
      "\n"
     ]
    }
   ],
   "source": [
    "# Made predictions on test data and print classification report\n",
    "loss_model_y_pred = least_loss_model.predict(x_test)\n",
    "loss_model_y_pred = (loss_model_y_pred > 0.5).astype(int).reshape(-1,)\n",
    "print(classification_report(y_test, loss_model_y_pred))"
   ]
  },
  {
   "cell_type": "markdown",
   "metadata": {
    "id": "TWNHXTkVTal0"
   },
   "source": [
    "# Interpretability with Shap\n",
    "I am using Shap because it works with all machine learning models and accounts for many factors such as additivity and symmetry. I used the primary explainer instead of deep or kernel because it is easy to work with and fits to all models."
   ]
  },
  {
   "cell_type": "code",
   "execution_count": null,
   "metadata": {
    "colab": {
     "base_uri": "https://localhost:8080/"
    },
    "id": "Xd79QW9JzYz5",
    "outputId": "c5a5c209-a6c4-4aee-9265-b57910720410"
   },
   "outputs": [
    {
     "name": "stdout",
     "output_type": "stream",
     "text": [
      "Collecting shap\n",
      "  Downloading shap-0.42.1-cp310-cp310-manylinux_2_12_x86_64.manylinux2010_x86_64.manylinux_2_17_x86_64.manylinux2014_x86_64.whl (547 kB)\n",
      "\u001b[2K     \u001b[90m━━━━━━━━━━━━━━━━━━━━━━━━━━━━━━━━━━━━━━━\u001b[0m \u001b[32m547.9/547.9 kB\u001b[0m \u001b[31m7.5 MB/s\u001b[0m eta \u001b[36m0:00:00\u001b[0m\n",
      "\u001b[?25hRequirement already satisfied: numpy in /usr/local/lib/python3.10/dist-packages (from shap) (1.23.5)\n",
      "Requirement already satisfied: scipy in /usr/local/lib/python3.10/dist-packages (from shap) (1.10.1)\n",
      "Requirement already satisfied: scikit-learn in /usr/local/lib/python3.10/dist-packages (from shap) (1.2.2)\n",
      "Requirement already satisfied: pandas in /usr/local/lib/python3.10/dist-packages (from shap) (1.5.3)\n",
      "Requirement already satisfied: tqdm>=4.27.0 in /usr/local/lib/python3.10/dist-packages (from shap) (4.66.1)\n",
      "Requirement already satisfied: packaging>20.9 in /usr/local/lib/python3.10/dist-packages (from shap) (23.1)\n",
      "Collecting slicer==0.0.7 (from shap)\n",
      "  Downloading slicer-0.0.7-py3-none-any.whl (14 kB)\n",
      "Requirement already satisfied: numba in /usr/local/lib/python3.10/dist-packages (from shap) (0.56.4)\n",
      "Requirement already satisfied: cloudpickle in /usr/local/lib/python3.10/dist-packages (from shap) (2.2.1)\n",
      "Requirement already satisfied: llvmlite<0.40,>=0.39.0dev0 in /usr/local/lib/python3.10/dist-packages (from numba->shap) (0.39.1)\n",
      "Requirement already satisfied: setuptools in /usr/local/lib/python3.10/dist-packages (from numba->shap) (67.7.2)\n",
      "Requirement already satisfied: python-dateutil>=2.8.1 in /usr/local/lib/python3.10/dist-packages (from pandas->shap) (2.8.2)\n",
      "Requirement already satisfied: pytz>=2020.1 in /usr/local/lib/python3.10/dist-packages (from pandas->shap) (2023.3)\n",
      "Requirement already satisfied: joblib>=1.1.1 in /usr/local/lib/python3.10/dist-packages (from scikit-learn->shap) (1.3.2)\n",
      "Requirement already satisfied: threadpoolctl>=2.0.0 in /usr/local/lib/python3.10/dist-packages (from scikit-learn->shap) (3.2.0)\n",
      "Requirement already satisfied: six>=1.5 in /usr/local/lib/python3.10/dist-packages (from python-dateutil>=2.8.1->pandas->shap) (1.16.0)\n",
      "Installing collected packages: slicer, shap\n",
      "Successfully installed shap-0.42.1 slicer-0.0.7\n"
     ]
    },
    {
     "name": "stderr",
     "output_type": "stream",
     "text": [
      "Using `tqdm.autonotebook.tqdm` in notebook mode. Use `tqdm.tqdm` instead to force console mode (e.g. in jupyter console)\n"
     ]
    }
   ],
   "source": [
    "!pip install shap\n",
    "import shap"
   ]
  },
  {
   "cell_type": "code",
   "execution_count": null,
   "metadata": {
    "colab": {
     "base_uri": "https://localhost:8080/"
    },
    "id": "8SXEOU-zTgY1",
    "outputId": "7178eaca-11e0-411c-a2cc-461605420127"
   },
   "outputs": [
    {
     "name": "stderr",
     "output_type": "stream",
     "text": [
      "Permutation explainer: 109it [00:38,  2.55it/s]\n"
     ]
    }
   ],
   "source": [
    "# Use Explainer from shap\n",
    "# This can be expensive but since the dataset is small I will use the whole training set\n",
    "explainer = shap.Explainer(least_loss_model, x_train, feature_names = df.columns)\n",
    "# Compute shap values using DeepExplainer instance\n",
    "shap_values = explainer(x_test)"
   ]
  },
  {
   "cell_type": "code",
   "execution_count": null,
   "metadata": {
    "colab": {
     "base_uri": "https://localhost:8080/"
    },
    "id": "ds86dUBImIvC",
    "outputId": "74dffa67-83df-4051-d9ef-7b4c29745759"
   },
   "outputs": [
    {
     "data": {
      "text/plain": [
       "(108, 15)"
      ]
     },
     "execution_count": 24,
     "metadata": {},
     "output_type": "execute_result"
    }
   ],
   "source": [
    "x_test.shape"
   ]
  },
  {
   "cell_type": "code",
   "execution_count": null,
   "metadata": {
    "colab": {
     "base_uri": "https://localhost:8080/",
     "height": 585
    },
    "id": "JK1q89ItbT09",
    "outputId": "d012ed82-e8b4-45d4-e9df-29207d5c198e"
   },
   "outputs": [
    {
     "data": {
      "image/png": "[encoded data removed]",
      "text/plain": [
       "<Figure size 800x650 with 1 Axes>"
      ]
     },
     "metadata": {},
     "output_type": "display_data"
    }
   ],
   "source": [
    "shap.plots.bar(shap_values)"
   ]
  },
  {
   "cell_type": "markdown",
   "metadata": {
    "id": "cXFY4bxRlz-e"
   },
   "source": [
    "# Interpretability with SHAP Conclusion\n",
    "It seems that the A9 category has the highest influence and A1, A4, A10, A12, A13, and A14 have very small influence.\n",
    "After digging around, I believe (though I am not sure) that A9 represents marriage or employment status. Since being in a marriage and being employed are both things that might help one's financial status, it makes sense that they are highly influential in the credit approval process.\n",
    "\n",
    "There is an (unfortunately intentional) bias in this data in which one of the features represents whether the subject is an unmarried female. In the case that the developer knows which feature this is and wants to lessen the influence of this feature, they can adjust the data by equalizing the training data in respect to positive and negative for that value and positive and negative credit approval. This would help improve the fairness of the machine learning model."
   ]
  },
  {
   "cell_type": "code",
   "execution_count": null,
   "metadata": {
    "id": "g8ZwGGiJcYY5"
   },
   "outputs": [],
   "source": []
  }
 ],
 "metadata": {
  "colab": {
   "provenance": []
  },
  "kernelspec": {
   "display_name": "Python 3 (ipykernel)",
   "language": "python",
   "name": "python3"
  },
  "language_info": {
   "codemirror_mode": {
    "name": "ipython",
    "version": 3
   },
   "file_extension": ".py",
   "mimetype": "text/x-python",
   "name": "python",
   "nbconvert_exporter": "python",
   "pygments_lexer": "ipython3",
   "version": "3.11.4"
  }
 },
 "nbformat": 4,
 "nbformat_minor": 1
}
